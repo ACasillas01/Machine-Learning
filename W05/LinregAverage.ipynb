{
 "cells": [
  {
   "cell_type": "code",
   "execution_count": 1,
   "metadata": {},
   "outputs": [],
   "source": [
    "import tensorflow as tf\n",
    "import pandas as pd\n",
    "import matplotlib.pyplot as plt\n",
    "import numpy as np"
   ]
  },
  {
   "cell_type": "code",
   "execution_count": 48,
   "metadata": {},
   "outputs": [],
   "source": [
    "# Definición de un modelo de regresión linear simple\n",
    "class SimpleLinearRegression(tf.Module):\n",
    "    def __init__(self, input_dim = 1, name = None):\n",
    "        super().__init__(name=None)\n",
    "        # Definir e inicializar parametros\n",
    "        rand_w = []\n",
    "        for i in range(input_dim):\n",
    "            rand_w.append(tf.random.normal([1]))\n",
    "        rand_b = tf.random.normal([1])\n",
    "        self.input_dim = input_dim\n",
    "        self.w = []\n",
    "        for i in range(input_dim):\n",
    "            self.w.append(tf.Variable(rand_w[i], name = f'w{i}', dtype = tf.float32))\n",
    "        self.b = tf.Variable(rand_b, name = 'b', dtype = tf.float32)        \n",
    "\n",
    "    def __call__(self, x): \n",
    "        if(self.input_dim==1):\n",
    "            y = tf.multiply(x, self.w[0]) + self.b\n",
    "            return y\n",
    "        else:\n",
    "            y = 0         \n",
    "            for i in range(self.input_dim):\n",
    "                y = y + np.matmul(x, self.w) \n",
    "            y = y + self.b\n",
    "            return y\n",
    "#  y = np.matmul(x, self.w) + self.b"
   ]
  },
  {
   "cell_type": "code",
   "execution_count": 3,
   "metadata": {},
   "outputs": [],
   "source": [
    "# Ruta al archivo csv\n",
    "archivo_csv = 'Promedios.csv'\n",
    "\n",
    "df = pd.read_csv(archivo_csv)\n",
    "\n",
    "target = df.pop('Promedio')\n",
    "tf_target = tf.convert_to_tensor(target, name=\"tf_promedio\", dtype=tf.float32)"
   ]
  },
  {
   "cell_type": "code",
   "execution_count": 4,
   "metadata": {},
   "outputs": [],
   "source": [
    "variables_1 = 'Departamento'\n",
    "features_1 = df[variables_1]\n",
    "\n",
    "features_1 = features_1.sample(frac=1).reset_index(drop=True)\n",
    "\n",
    "tf_features_1 = tf.convert_to_tensor(features_1, name=\"tf_departamento\", dtype=tf.float32)"
   ]
  },
  {
   "cell_type": "code",
   "execution_count": 27,
   "metadata": {},
   "outputs": [
    {
     "name": "stdout",
     "output_type": "stream",
     "text": [
      "(150, 2)\n"
     ]
    }
   ],
   "source": [
    "variables_2 = ['Departamento', 'Semestre']\n",
    "features_2 = df[variables_2]\n",
    "\n",
    "features_2 = features_2.sample(frac=1).reset_index(drop=True)\n",
    "\n",
    "tf_features_2 = tf.convert_to_tensor(features_2, name=\"tf_departamento_semestre\", dtype=tf.float32)\n",
    "print(tf_features_2.shape)"
   ]
  },
  {
   "cell_type": "code",
   "execution_count": 12,
   "metadata": {},
   "outputs": [
    {
     "name": "stdout",
     "output_type": "stream",
     "text": [
      "(150, 3)\n"
     ]
    }
   ],
   "source": [
    "variables_3 = ['Departamento', 'Semestre', 'Edad']\n",
    "features_3 = df[variables_3]\n",
    "\n",
    "tf_features_3 = tf.convert_to_tensor(features_3, name=\"tf_departamento_semestre_edad\", dtype=tf.float32)\n",
    "print(tf_features_3.shape)"
   ]
  },
  {
   "cell_type": "code",
   "execution_count": 49,
   "metadata": {},
   "outputs": [],
   "source": [
    "lin_reg_var1 = SimpleLinearRegression(input_dim=1, name=\"promedios_departamento\")\n",
    "lin_reg_var2 = SimpleLinearRegression(input_dim=2, name=\"promedios_departamento_semestre\")\n",
    "lin_reg_var3 = SimpleLinearRegression(input_dim=3, name=\"promedios_departamento_semestre_edad\")"
   ]
  },
  {
   "cell_type": "code",
   "execution_count": 8,
   "metadata": {},
   "outputs": [],
   "source": [
    "# Función de costo\n",
    "def mse_loss(y, yp):\n",
    "    e = y - yp\n",
    "    se = tf.multiply(e, e)\n",
    "    mse = tf.reduce_mean(se, axis=0)\n",
    "    return mse\n"
   ]
  },
  {
   "cell_type": "code",
   "execution_count": 50,
   "metadata": {},
   "outputs": [
    {
     "name": "stdout",
     "output_type": "stream",
     "text": [
      "w0:[-0.02003748], b: [-1.4546971]\n",
      "w0:[9.510069], b: [49.06845], Costo: 381.1529846191406\n"
     ]
    }
   ],
   "source": [
    "# Cálculo del gradiente con respecto al modelo (1 variable)\n",
    "learning_rate = 0.001\n",
    "\n",
    "epoch = 2000\n",
    "\n",
    "print(f\"w0:{lin_reg_var1.w[0].numpy()}, b: {lin_reg_var1.b.numpy()}\")\n",
    "\n",
    "for i in range(epoch):\n",
    "    with tf.GradientTape() as gt:\n",
    "        # Predicción\n",
    "        Yp_1 = lin_reg_var1(tf_features_1)\n",
    "        loss = mse_loss(tf_target, Yp_1)\n",
    "        # Calculo de los gradientes    \n",
    "        grads = gt.gradient(loss, lin_reg_var1.trainable_variables)\n",
    "        # Aplicamos la regla de actualización del gradiente\n",
    "        for g, v in zip(grads, lin_reg_var1.trainable_variables):       \n",
    "            v.assign_sub(learning_rate * g) # One Step\n",
    "        \n",
    "        Yp = lin_reg_var1(tf_features_1)\n",
    "        loss = mse_loss(tf_target, Yp)\n",
    "\n",
    "print(f\"w0:{lin_reg_var1.w[0].numpy()}, b: {lin_reg_var1.b.numpy()}, Costo: {loss}\")"
   ]
  },
  {
   "cell_type": "code",
   "execution_count": 52,
   "metadata": {},
   "outputs": [
    {
     "name": "stdout",
     "output_type": "stream",
     "text": [
      "(150, 2)\n",
      "tf.Tensor(\n",
      "[[31.690815]\n",
      " [53.84434 ]\n",
      " [42.880928]\n",
      " [35.370476]\n",
      " [31.690815]\n",
      " [31.690815]\n",
      " [42.880928]\n",
      " [31.690815]\n",
      " [53.84434 ]\n",
      " [46.409454]\n",
      " [53.617638]\n",
      " [42.729794]\n",
      " [38.899   ]\n",
      " [42.880928]\n",
      " [46.56059 ]\n",
      " [24.255926]\n",
      " [53.84434 ]\n",
      " [35.52161 ]\n",
      " [49.93798 ]\n",
      " [31.464111]\n",
      " [42.50309 ]\n",
      " [53.84434 ]\n",
      " [38.974564]\n",
      " [28.011154]\n",
      " [53.84434 ]\n",
      " [53.54207 ]\n",
      " [24.255926]\n",
      " [35.219337]\n",
      " [42.50309 ]\n",
      " [38.823433]\n",
      " [24.331493]\n",
      " [31.690815]\n",
      " [24.331493]\n",
      " [46.333885]\n",
      " [61.27923 ]\n",
      " [46.18275 ]\n",
      " [35.143772]\n",
      " [38.899   ]\n",
      " [42.57866 ]\n",
      " [49.93798 ]\n",
      " [46.18275 ]\n",
      " [46.333885]\n",
      " [38.899   ]\n",
      " [35.370476]\n",
      " [46.258316]\n",
      " [31.464111]\n",
      " [24.180359]\n",
      " [42.729794]\n",
      " [46.333885]\n",
      " [53.84434 ]\n",
      " [31.464111]\n",
      " [38.823433]\n",
      " [53.84434 ]\n",
      " [42.880928]\n",
      " [46.409454]\n",
      " [53.84434 ]\n",
      " [31.464111]\n",
      " [39.050133]\n",
      " [24.255926]\n",
      " [46.333885]\n",
      " [50.24025 ]\n",
      " [38.974564]\n",
      " [38.823433]\n",
      " [49.93798 ]\n",
      " [46.258316]\n",
      " [31.464111]\n",
      " [38.974564]\n",
      " [35.370476]\n",
      " [53.84434 ]\n",
      " [50.16468 ]\n",
      " [38.974564]\n",
      " [39.20127 ]\n",
      " [42.880928]\n",
      " [35.294907]\n",
      " [50.08911 ]\n",
      " [24.180359]\n",
      " [46.56059 ]\n",
      " [53.84434 ]\n",
      " [53.84434 ]\n",
      " [31.464111]\n",
      " [53.84434 ]\n",
      " [53.617638]\n",
      " [53.84434 ]\n",
      " [38.974564]\n",
      " [42.880928]\n",
      " [50.16468 ]\n",
      " [27.935585]\n",
      " [53.84434 ]\n",
      " [42.50309 ]\n",
      " [39.050133]\n",
      " [46.333885]\n",
      " [42.57866 ]\n",
      " [38.974564]\n",
      " [35.294907]\n",
      " [46.56059 ]\n",
      " [38.823433]\n",
      " [53.84434 ]\n",
      " [49.93798 ]\n",
      " [49.93798 ]\n",
      " [53.84434 ]\n",
      " [53.84434 ]\n",
      " [49.93798 ]\n",
      " [35.219337]\n",
      " [46.56059 ]\n",
      " [28.011154]\n",
      " [50.013546]\n",
      " [42.880928]\n",
      " [50.24025 ]\n",
      " [50.24025 ]\n",
      " [42.50309 ]\n",
      " [35.143772]\n",
      " [46.56059 ]\n",
      " [53.919907]\n",
      " [39.050133]\n",
      " [35.143772]\n",
      " [38.899   ]\n",
      " [50.16468 ]\n",
      " [53.84434 ]\n",
      " [35.52161 ]\n",
      " [49.86241 ]\n",
      " [38.823433]\n",
      " [42.729794]\n",
      " [53.84434 ]\n",
      " [38.899   ]\n",
      " [35.294907]\n",
      " [35.294907]\n",
      " [39.050133]\n",
      " [42.729794]\n",
      " [50.24025 ]\n",
      " [46.333885]\n",
      " [61.27923 ]\n",
      " [46.258316]\n",
      " [53.84434 ]\n",
      " [42.880928]\n",
      " [42.50309 ]\n",
      " [49.93798 ]\n",
      " [53.84434 ]\n",
      " [38.899   ]\n",
      " [38.823433]\n",
      " [42.65423 ]\n",
      " [35.143772]\n",
      " [46.258316]\n",
      " [46.56059 ]\n",
      " [38.974564]\n",
      " [39.050133]\n",
      " [53.84434 ]\n",
      " [53.693207]\n",
      " [35.294907]\n",
      " [53.768772]\n",
      " [39.20127 ]], shape=(150, 1), dtype=float32)\n",
      "(<tf.Tensor: shape=(1,), dtype=float32, numpy=array([-14156.805], dtype=float32)>, None, None)\n",
      "(<tf.Variable 'b:0' shape=(1,) dtype=float32, numpy=array([20.878536], dtype=float32)>, <tf.Variable 'w0:0' shape=(1,) dtype=float32, numpy=array([-0.03778379], dtype=float32)>, <tf.Variable 'w1:0' shape=(1,) dtype=float32, numpy=array([1.83983], dtype=float32)>)\n"
     ]
    },
    {
     "ename": "TypeError",
     "evalue": "unsupported operand type(s) for *: 'float' and 'NoneType'",
     "output_type": "error",
     "traceback": [
      "\u001b[1;31m---------------------------------------------------------------------------\u001b[0m",
      "\u001b[1;31mTypeError\u001b[0m                                 Traceback (most recent call last)",
      "Cell \u001b[1;32mIn[52], line 20\u001b[0m\n\u001b[0;32m     18\u001b[0m \u001b[38;5;66;03m# Aplicamos la regla de actualización del gradiente\u001b[39;00m\n\u001b[0;32m     19\u001b[0m \u001b[38;5;28;01mfor\u001b[39;00m g, v \u001b[38;5;129;01min\u001b[39;00m \u001b[38;5;28mzip\u001b[39m(grads, lin_reg_var2\u001b[38;5;241m.\u001b[39mtrainable_variables):\n\u001b[1;32m---> 20\u001b[0m     v\u001b[38;5;241m.\u001b[39massign_sub(\u001b[43mlearning_rate\u001b[49m\u001b[38;5;241;43m*\u001b[39;49m\u001b[43mg\u001b[49m) \u001b[38;5;66;03m# One Step      \u001b[39;00m\n\u001b[0;32m     22\u001b[0m Yp \u001b[38;5;241m=\u001b[39m lin_reg_var2(tf_features_2)\n\u001b[0;32m     23\u001b[0m loss \u001b[38;5;241m=\u001b[39m mse_loss(tf_target, Yp)\n",
      "\u001b[1;31mTypeError\u001b[0m: unsupported operand type(s) for *: 'float' and 'NoneType'"
     ]
    }
   ],
   "source": [
    "# Cálculo del gradiente con respecto al modelo (2 variables)\n",
    "learning_rate = 0.001\n",
    "\n",
    "epoch = 2\n",
    "\n",
    "for i in range(epoch):\n",
    "    with tf.GradientTape() as gt:\n",
    "        # Predicción\n",
    "        print(tf_features_2.shape)\n",
    "        Yp_2 = lin_reg_var2(tf_features_2)\n",
    "        print(Yp_2)\n",
    "        loss = mse_loss(tf_target, Yp_2)\n",
    "        # print(f\"w0:{lin_reg_var2.w.numpy()}, b: {lin_reg_var2.b.numpy()}, Costo: {loss}\")\n",
    "        # Calculo de los gradientes\n",
    "        grads = gt.gradient(loss, lin_reg_var2.trainable_variables)\n",
    "        print(grads)\n",
    "        print(lin_reg_var2.trainable_variables)\n",
    "        # Aplicamos la regla de actualización del gradiente\n",
    "        for g, v in zip(grads, lin_reg_var2.trainable_variables):\n",
    "            v.assign_sub(learning_rate*g) # One Step      \n",
    "        \n",
    "        Yp = lin_reg_var2(tf_features_2)\n",
    "        loss = mse_loss(tf_target, Yp)\n",
    "        print(f\"w0:{lin_reg_var2.w.numpy()}, b: {lin_reg_var2.b.numpy()}, Costo: {loss}\")\n"
   ]
  },
  {
   "cell_type": "code",
   "execution_count": 60,
   "metadata": {},
   "outputs": [
    {
     "name": "stdout",
     "output_type": "stream",
     "text": [
      "w0:[-1.5777926  0.2733995  0.5663654], b: [0.22815959], Costo: 6740.66845703125\n",
      "(<tf.Tensor: shape=(1,), dtype=float32, numpy=array([-163.83513], dtype=float32)>, None)\n",
      "(<tf.Variable 'b:0' shape=(1,) dtype=float32, numpy=array([0.22815959], dtype=float32)>, <tf.Variable 'w:0' shape=(3,) dtype=float32, numpy=array([-1.5777926,  0.2733995,  0.5663654], dtype=float32)>)\n",
      "G is  tf.Tensor([-163.83513], shape=(1,), dtype=float32)\n",
      "V is  <tf.Variable 'b:0' shape=(1,) dtype=float32, numpy=array([0.22815959], dtype=float32)>\n",
      "G is  None\n",
      "V is  <tf.Variable 'w:0' shape=(3,) dtype=float32, numpy=array([-1.5777926,  0.2733995,  0.5663654], dtype=float32)>\n"
     ]
    },
    {
     "ename": "TypeError",
     "evalue": "unsupported operand type(s) for *: 'float' and 'NoneType'",
     "output_type": "error",
     "traceback": [
      "\u001b[1;31m---------------------------------------------------------------------------\u001b[0m",
      "\u001b[1;31mTypeError\u001b[0m                                 Traceback (most recent call last)",
      "Cell \u001b[1;32mIn[60], line 23\u001b[0m\n\u001b[0;32m     21\u001b[0m     \u001b[38;5;28mprint\u001b[39m(\u001b[38;5;124m\"\u001b[39m\u001b[38;5;124mG is \u001b[39m\u001b[38;5;124m\"\u001b[39m, g)\n\u001b[0;32m     22\u001b[0m     \u001b[38;5;28mprint\u001b[39m(\u001b[38;5;124m\"\u001b[39m\u001b[38;5;124mV is \u001b[39m\u001b[38;5;124m\"\u001b[39m, v)\n\u001b[1;32m---> 23\u001b[0m     v\u001b[38;5;241m.\u001b[39massign_sub(\u001b[43mlearning_rate\u001b[49m\u001b[38;5;241;43m*\u001b[39;49m\u001b[43mg\u001b[49m) \u001b[38;5;66;03m# One Step        \u001b[39;00m\n\u001b[0;32m     25\u001b[0m Yp \u001b[38;5;241m=\u001b[39m lin_reg_var2(tf_features_2)\n\u001b[0;32m     26\u001b[0m loss \u001b[38;5;241m=\u001b[39m mse_loss(tf_target, Yp)\n",
      "\u001b[1;31mTypeError\u001b[0m: unsupported operand type(s) for *: 'float' and 'NoneType'"
     ]
    }
   ],
   "source": [
    "# Cálculo del gradiente con respecto al modelo (3 variables)\n",
    "learning_rate = 0.001\n",
    "\n",
    "# batch_size = 1\n",
    "# num_batches = tf_features_3.shape[0]//batch_size\n",
    "\n",
    "epoch = 2000\n",
    "\n",
    "for i in range(epoch):\n",
    "    with tf.GradientTape() as gt:\n",
    "        # Predicción\n",
    "        Yp_3 = lin_reg_var3(tf_features_3)\n",
    "        loss = mse_loss(tf_target, Yp_3)\n",
    "        print(f\"w0:{lin_reg_var3.w.numpy()}, b: {lin_reg_var3.b.numpy()}, Costo: {loss}\")\n",
    "        # Calculo de los gradientes\n",
    "        grads = gt.gradient(loss, lin_reg_var3.trainable_variables)\n",
    "        print(grads)\n",
    "        print(lin_reg_var3.trainable_variables)\n",
    "        # Aplicamos la regla de actualización del gradiente\n",
    "        for g, v in zip(grads, lin_reg_var3.trainable_variables):\n",
    "            v.assign_sub(learning_rate*g) # One Step        \n",
    "        \n",
    "        Yp = lin_reg_var2(tf_features_2)\n",
    "        loss = mse_loss(tf_target, Yp)\n",
    "        print(f\"w0:{lin_reg_var3.w.numpy()}, b: {lin_reg_var3.b.numpy()}, Costo: {loss}\")\n"
   ]
  }
 ],
 "metadata": {
  "kernelspec": {
   "display_name": "Python 3",
   "language": "python",
   "name": "python3"
  },
  "language_info": {
   "codemirror_mode": {
    "name": "ipython",
    "version": 3
   },
   "file_extension": ".py",
   "mimetype": "text/x-python",
   "name": "python",
   "nbconvert_exporter": "python",
   "pygments_lexer": "ipython3",
   "version": "3.12.0"
  }
 },
 "nbformat": 4,
 "nbformat_minor": 2
}
