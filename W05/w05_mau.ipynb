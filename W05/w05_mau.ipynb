{
 "cells": [
  {
   "cell_type": "code",
   "execution_count": 27,
   "metadata": {},
   "outputs": [],
   "source": [
    "import tensorflow as tf\n",
    "import pandas as pd\n",
    "import numpy as np"
   ]
  },
  {
   "cell_type": "code",
   "execution_count": 28,
   "metadata": {},
   "outputs": [],
   "source": [
    "# Ruta al archivo csv\n",
    "archivo_csv = 'Promedios.csv'\n",
    "\n",
    "df = pd.read_csv(archivo_csv)\n",
    "\n",
    "target = df.pop('Promedio')\n",
    "tf_target = tf.convert_to_tensor(target, name=\"tf_promedio\", dtype=tf.float32)"
   ]
  },
  {
   "cell_type": "code",
   "execution_count": 29,
   "metadata": {},
   "outputs": [],
   "source": [
    "variables_1 = 'Departamento'\n",
    "features_1 = df[variables_1]\n",
    "\n",
    "tf_features_1 = tf.convert_to_tensor(features_1, name=\"tf_departamento\", dtype=tf.float32)"
   ]
  },
  {
   "cell_type": "code",
   "execution_count": 30,
   "metadata": {},
   "outputs": [],
   "source": [
    "variables_2 = ['Departamento', 'Semestre']\n",
    "features_2 = df[variables_2]\n",
    "\n",
    "tf_features_2 = tf.convert_to_tensor(features_2, name=\"tf_departamento_semestre\", dtype=tf.float32)"
   ]
  },
  {
   "cell_type": "code",
   "execution_count": 31,
   "metadata": {},
   "outputs": [],
   "source": [
    "variables_3 = ['Departamento', 'Semestre', 'Edad']\n",
    "features_3 = df[variables_3]\n",
    "\n",
    "tf_features_3 = tf.convert_to_tensor(features_3, name=\"tf_departamento_semestre_edad\", dtype=tf.float32)"
   ]
  },
  {
   "cell_type": "code",
   "execution_count": 32,
   "metadata": {},
   "outputs": [],
   "source": [
    "class LinearRegression(tf.Module):\n",
    "    def __init__(self, input_dim=1, name=None):\n",
    "        super().__init__(name=name)\n",
    "        # Definir e inicializar los parámetros\n",
    "        self.w = tf.Variable(tf.random.normal([input_dim, 1]), name='w', dtype=tf.float32)  # Matriz de pesos para N entradas\n",
    "        self.b = tf.Variable(tf.random.normal([1]), name='b', dtype=tf.float32)  # Sesgo\n",
    "\n",
    "    def __call__(self, x):\n",
    "        if len(x.shape) > 1:\n",
    "            y = tf.matmul(x, self.w) + self.b\n",
    "        else:\n",
    "            y = tf.multiply(x, self.w) + self.b\n",
    "        return y\n",
    "\n",
    "    # Método de entrenamiento usando descenso de gradiente\n",
    "    def train(self, x_train, y_train, learning_rate=0.01, epochs=100):\n",
    "        optimizer = tf.optimizers.SGD(learning_rate)\n",
    "        \n",
    "        for epoch in range(epochs):\n",
    "            with tf.GradientTape() as tape:\n",
    "                # Predicción y cálculo de la pérdida (error cuadrático medio)\n",
    "                y_pred = self.__call__(x_train)                \n",
    "                loss = tf.reduce_mean(tf.square(y_pred - y_train))\n",
    "\n",
    "            # Calcular los gradientes\n",
    "            gradients = tape.gradient(loss, [self.w, self.b])\n",
    "            # Actualizar los parámetros\n",
    "            optimizer.apply_gradients(zip(gradients, [self.w, self.b]))\n",
    "            \n",
    "            # Mostrar el progreso cada 10 epochs\n",
    "            if epoch % 10 == 0:\n",
    "                print(f\"Epoch {epoch}: Loss = {loss.numpy()}\")"
   ]
  },
  {
   "cell_type": "code",
   "execution_count": 33,
   "metadata": {},
   "outputs": [
    {
     "name": "stdout",
     "output_type": "stream",
     "text": [
      "Epoch 0: Loss = 8511.3330078125\n",
      "Epoch 10: Loss = 1477.6234130859375\n",
      "Epoch 20: Loss = 1372.50390625\n",
      "Epoch 30: Loss = 1277.697998046875\n",
      "Epoch 40: Loss = 1189.5784912109375\n",
      "Epoch 50: Loss = 1107.672607421875\n",
      "Epoch 60: Loss = 1031.5419921875\n",
      "Epoch 70: Loss = 960.7796020507812\n",
      "Epoch 80: Loss = 895.0069580078125\n",
      "Epoch 90: Loss = 833.8720703125\n",
      "Prediccion para [5.]: [[98.73162]]\n",
      "w0:[[13.326348]], b: [32.099876]\n"
     ]
    }
   ],
   "source": [
    "input_dim = 1\n",
    "lin_reg = LinearRegression(input_dim=input_dim, name=\"departamento_promedio\")\n",
    "\n",
    "# Definir las variables de entrenamiento\n",
    "x_train = tf_features_1\n",
    "y_train = tf_target\n",
    "\n",
    "# Entrenar el modelo\n",
    "lin_reg.train(x_train, y_train, 0.01)\n",
    "\n",
    "# Realizar una predicción\n",
    "x_test = np.array([5], dtype=np.float32)\n",
    "y_pred = lin_reg(x_test)\n",
    "print(f\"Prediccion para {x_test}: {y_pred.numpy()}\")\n",
    "print(f\"w0:{lin_reg.w.numpy()}, b: {lin_reg.b.numpy()}\")\n",
    "\n"
   ]
  },
  {
   "cell_type": "code",
   "execution_count": 34,
   "metadata": {},
   "outputs": [
    {
     "name": "stdout",
     "output_type": "stream",
     "text": [
      "Epoch 0: Loss = 8020.337890625\n",
      "Epoch 10: Loss = 471.4360046386719\n",
      "Epoch 20: Loss = 452.5916748046875\n",
      "Epoch 30: Loss = 442.2711181640625\n",
      "Epoch 40: Loss = 433.3043518066406\n",
      "Epoch 50: Loss = 424.6876525878906\n",
      "Epoch 60: Loss = 416.2779541015625\n",
      "Epoch 70: Loss = 408.0516052246094\n",
      "Epoch 80: Loss = 400.0016784667969\n",
      "Epoch 90: Loss = 392.1246337890625\n",
      "Prediccion para [[5. 6.]]: [[98.63589]]\n",
      "w0:[[8.878237]\n",
      " [7.318113]], b: [10.336028]\n"
     ]
    }
   ],
   "source": [
    "input_dim = 2\n",
    "lin_reg = LinearRegression(input_dim=input_dim, name=\"departamento_semestre_promedio\")\n",
    "\n",
    "# Definir las variables de entrenamiento\n",
    "x_train = tf_features_2\n",
    "y_train = tf_target\n",
    "\n",
    "# Entrenar el modelo\n",
    "lin_reg.train(x_train, y_train, 0.01, 100)\n",
    "\n",
    "# Realizar una predicción\n",
    "x_test = np.array([[5, 6]], dtype=np.float32)\n",
    "y_pred = lin_reg(x_test)\n",
    "print(f\"Prediccion para {x_test}: {y_pred.numpy()}\")\n",
    "print(f\"w0:{lin_reg.w.numpy()}, b: {lin_reg.b.numpy()}\")\n"
   ]
  },
  {
   "cell_type": "code",
   "execution_count": 35,
   "metadata": {},
   "outputs": [
    {
     "name": "stdout",
     "output_type": "stream",
     "text": [
      "Epoch 0: Loss = 9123.9453125\n",
      "Epoch 10: Loss = 75.95240783691406\n",
      "Epoch 20: Loss = 74.36672973632812\n",
      "Epoch 30: Loss = 72.89581298828125\n",
      "Epoch 40: Loss = 71.52941131591797\n",
      "Epoch 50: Loss = 70.25840759277344\n",
      "Epoch 60: Loss = 69.0748519897461\n",
      "Epoch 70: Loss = 67.97161102294922\n",
      "Epoch 80: Loss = 66.94233703613281\n",
      "Epoch 90: Loss = 65.9813232421875\n",
      "Prediccion para [[ 6.  3. 19.]]: [[87.79064]]\n",
      "w0:[[ 1.5280035 ]\n",
      " [-0.74793786]\n",
      " [ 4.2007217 ]], b: [1.0527194]\n"
     ]
    }
   ],
   "source": [
    "input_dim = 3\n",
    "lin_reg = LinearRegression(input_dim=input_dim, name=\"departamento_semestre_edad_promedio\")\n",
    "\n",
    "# Definir las variables de entrenamiento\n",
    "x_train = tf_features_3\n",
    "y_train = tf_target\n",
    "\n",
    "# Entrenar el modelo\n",
    "lin_reg.train(x_train, y_train, 0.001, 100)\n",
    "\n",
    "# Realizar una predicción\n",
    "x_test = np.array([[6,3,19]], dtype=np.float32)\n",
    "y_pred = lin_reg(x_test)\n",
    "print(f\"Prediccion para {x_test}: {y_pred.numpy()}\")\n",
    "print(f\"w0:{lin_reg.w.numpy()}, b: {lin_reg.b.numpy()}\")\n"
   ]
  }
 ],
 "metadata": {
  "kernelspec": {
   "display_name": "Python 3",
   "language": "python",
   "name": "python3"
  },
  "language_info": {
   "codemirror_mode": {
    "name": "ipython",
    "version": 3
   },
   "file_extension": ".py",
   "mimetype": "text/x-python",
   "name": "python",
   "nbconvert_exporter": "python",
   "pygments_lexer": "ipython3",
   "version": "3.12.6"
  }
 },
 "nbformat": 4,
 "nbformat_minor": 2
}
