{
 "cells": [
  {
   "cell_type": "markdown",
   "metadata": {},
   "source": [
    "Import Data from CSV file "
   ]
  },
  {
   "cell_type": "code",
   "execution_count": 40,
   "metadata": {},
   "outputs": [],
   "source": [
    "import pandas as pd\n",
    "import tensorflow as tf\n",
    "import numpy as np\n",
    "\n",
    "file_path = './promedios.csv'\n",
    "df = pd.read_csv(file_path)"
   ]
  },
  {
   "cell_type": "markdown",
   "metadata": {},
   "source": [
    "Ahora tenemos que dividir los datos en Target y Variabes, para convertir en tensores"
   ]
  },
  {
   "cell_type": "code",
   "execution_count": 41,
   "metadata": {},
   "outputs": [],
   "source": [
    "target = df.pop('Promedio')\n",
    "\n",
    "variables = ['Departamento', 'Semestre', 'Edad']\n",
    "#features = df[variables]\n",
    "features = df.pop(\"Departamento\")\n",
    "tf_features = tf.convert_to_tensor(features, dtype=tf.float32)\n"
   ]
  },
  {
   "cell_type": "code",
   "execution_count": 31,
   "metadata": {},
   "outputs": [],
   "source": [
    "tf_targets = tf.convert_to_tensor(target, dtype=tf.float32)"
   ]
  },
  {
   "cell_type": "code",
   "execution_count": 22,
   "metadata": {},
   "outputs": [],
   "source": [
    "# Definición del un modelo de regresión linear simple\n",
    "class SimpleLinearRegression(tf.Module):\n",
    "    def __init__(self, input_dim = 1, name=None):\n",
    "        super().__init__(name=name)\n",
    "        #Definir e inicializar parámetros\n",
    "        if(input_dim == 1):\n",
    "            rand_w = tf.random.normal([input_dim])\n",
    "            rand_b = tf.random.normal([1])\n",
    "            self.w = tf.Variable(rand_w, name='w', dtype=tf.float32, trainable=True)\n",
    "            self.b = tf.Variable(rand_b, name='b', dtype=tf.float32, trainable=True)\n",
    "\n",
    "    def __call__(self, x):\n",
    "        if(self.input_dim == 1):\n",
    "            y = tf.multiply(x, self.w) + self.b\n",
    "        return y\n",
    "    \n",
    "#Creación de un modelo de regresión lineal\n",
    "lin_reg = SimpleLinearRegression(input_dim=1, name=\"Dept_Reg\")"
   ]
  },
  {
   "cell_type": "markdown",
   "metadata": {},
   "source": [
    "Mis variables a utilizar (Tensores) Son tf_features y tf_target"
   ]
  },
  {
   "cell_type": "code",
   "execution_count": 26,
   "metadata": {},
   "outputs": [
    {
     "name": "stdout",
     "output_type": "stream",
     "text": [
      "tf.Tensor([ -6.799345   -3.4649975 -20.136734 ], shape=(3,), dtype=float32)\n"
     ]
    }
   ],
   "source": [
    "Yp = lin_reg(tf_features[0].numpy()) # Yp = Y predicha\n",
    "print(Yp)"
   ]
  },
  {
   "cell_type": "code",
   "execution_count": 34,
   "metadata": {},
   "outputs": [],
   "source": [
    "\n",
    "def mse_loss(Y, Yp):\n",
    "    e = Y - Yp\n",
    "    se = tf.multiply(e,e)\n",
    "    mse = tf.reduce_mean(se, axis=0)\n",
    "    return mse"
   ]
  },
  {
   "cell_type": "code",
   "execution_count": 62,
   "metadata": {},
   "outputs": [
    {
     "name": "stdout",
     "output_type": "stream",
     "text": [
      "w0:[1.0582794], b: [0.23097104], costo: 7012.47412109375\n",
      "\n",
      "w0:[1.1585346], b: [0.24768025]\n",
      "\n",
      "w0:[1.1585346], b: [0.24768025], costo: 6909.55322265625\n",
      "\n"
     ]
    }
   ],
   "source": [
    "# Cálculo del gradiente con respecto a un \n",
    "learining_rate = 0.0001\n",
    "\n",
    "with tf.GradientTape() as tape:\n",
    "    # Paso 1: Predicción\n",
    "    Yp = lin_reg(tf_features[0])\n",
    "    # Paso 2: Calcular Costo\n",
    "    loss = mse_loss(tf_targets, Yp)\n",
    "    print(f\"w0:{lin_reg.w.numpy()}, b: {lin_reg.b.numpy()}, costo: {loss}\\n\")\n",
    "    # Paso 3: Calcular el gradiente\n",
    "    gradients = tape.gradient(loss, lin_reg.trainable_variables)\n",
    "    # Aplicar (regla de actualización de) los gradientes en la actualización de parámetros\n",
    "    for g, v in zip(gradients, lin_reg.trainable_variables):\n",
    "        v.assign_sub(learining_rate*g) # One Step\n",
    "\n",
    "    print(f\"w0:{lin_reg.w.numpy()}, b: {lin_reg.b.numpy()}\\n\")\n",
    "\n",
    "\n",
    "    Yp = lin_reg(tf_features[0])\n",
    "    loss = mse_loss(tf_targets, Yp)\n",
    "    print(f\"w0:{lin_reg.w.numpy()}, b: {lin_reg.b.numpy()}, costo: {loss}\\n\")"
   ]
  }
 ],
 "metadata": {
  "kernelspec": {
   "display_name": "Python 3",
   "language": "python",
   "name": "python3"
  },
  "language_info": {
   "codemirror_mode": {
    "name": "ipython",
    "version": 3
   },
   "file_extension": ".py",
   "mimetype": "text/x-python",
   "name": "python",
   "nbconvert_exporter": "python",
   "pygments_lexer": "ipython3",
   "version": "3.12.0"
  }
 },
 "nbformat": 4,
 "nbformat_minor": 2
}
