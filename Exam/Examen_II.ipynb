{
 "cells": [
  {
   "cell_type": "markdown",
   "metadata": {},
   "source": [
    "# EXAMEN 2\n",
    "\n",
    "WelfareBnk es una fintech que incursionó hace cinco años en el mercado Mexicano (adquirió una\n",
    "instituci´on financiera que ten´ıa cincuenta años en el pa´ıs). Actualmente, la institución tiene diversos\n",
    "problemas relacionados con la cartera vencida y la pérdida de clientes, por lo que ha solicitado tu empresa\n",
    "de consultoría el desarrollo de dos servicios/aplicaciones que le ayuden a:\n",
    "\n",
    "Identificar clientes que potencialmente abandonar´an el banco. Esto les permitirá anticiparse y ofrecer\n",
    "a los clientes incentivos para no abandonar la institución.\n",
    "Noviembre 2024 ITESO, Universidad Jesuita de Guadalajara\n",
    "Reducir la cartera vencida, mediante una mejor evaluación de riesgos sobre la solicitudes de créditos\n",
    "realizadas por los clientes.\n",
    "\n",
    "Como ingeniero con experiencia en aprendizaje automático se te ha asignado la construcción, entre-\n",
    "namiento y validación de modelos que puedan ser utilizados como parte de los servicios que ayudarán\n",
    "a la empresa a evaluar mejor los riesgos de cr´edito al consumidor y la identificaci´on de clientes que\n",
    "potencialmente abandonarán la institución."
   ]
  },
  {
   "cell_type": "code",
   "execution_count": 30,
   "metadata": {},
   "outputs": [
    {
     "data": {
      "text/plain": [
       "\"\\nimport zipfile\\nwith zipfile.ZipFile('./muestra_datos_WelfareBnk.zip', 'r') as zip_ref:\\n    zip_ref.extractall('./data')\\n\""
      ]
     },
     "execution_count": 30,
     "metadata": {},
     "output_type": "execute_result"
    }
   ],
   "source": [
    "# Firstly we must unzip the songs data and metadata\n",
    "'''\n",
    "import zipfile\n",
    "with zipfile.ZipFile('./muestra_datos_WelfareBnk.zip', 'r') as zip_ref:\n",
    "    zip_ref.extractall('./data')\n",
    "'''"
   ]
  },
  {
   "cell_type": "code",
   "execution_count": 31,
   "metadata": {},
   "outputs": [
    {
     "name": "stdout",
     "output_type": "stream",
     "text": [
      "grado_credito\n",
      "A    10777\n",
      "B    10451\n",
      "C     6458\n",
      "D     3626\n",
      "E      964\n",
      "F      241\n",
      "G       64\n",
      "Name: count, dtype: int64\n",
      "grado_credito\n",
      "0    21228\n",
      "1     6458\n",
      "2     4895\n",
      "Name: count, dtype: int64\n"
     ]
    },
    {
     "name": "stderr",
     "output_type": "stream",
     "text": [
      "C:\\Users\\acasi\\AppData\\Local\\Temp\\ipykernel_14992\\4260260563.py:26: FutureWarning: Downcasting behavior in `replace` is deprecated and will be removed in a future version. To retain the old behavior, explicitly call `result.infer_objects(copy=False)`. To opt-in to the future behavior, set `pd.set_option('future.no_silent_downcasting', True)`\n",
      "  risk_X['incumplimiento_historico'] = risk_X['incumplimiento_historico'].replace(['Y', 'N'], [1.0, 0.0])\n",
      "C:\\Users\\acasi\\AppData\\Local\\Temp\\ipykernel_14992\\4260260563.py:26: SettingWithCopyWarning: \n",
      "A value is trying to be set on a copy of a slice from a DataFrame.\n",
      "Try using .loc[row_indexer,col_indexer] = value instead\n",
      "\n",
      "See the caveats in the documentation: https://pandas.pydata.org/pandas-docs/stable/user_guide/indexing.html#returning-a-view-versus-a-copy\n",
      "  risk_X['incumplimiento_historico'] = risk_X['incumplimiento_historico'].replace(['Y', 'N'], [1.0, 0.0])\n",
      "C:\\Users\\acasi\\AppData\\Local\\Temp\\ipykernel_14992\\4260260563.py:32: FutureWarning: Downcasting behavior in `replace` is deprecated and will be removed in a future version. To retain the old behavior, explicitly call `result.infer_objects(copy=False)`. To opt-in to the future behavior, set `pd.set_option('future.no_silent_downcasting', True)`\n",
      "  risk_Y = risk_Y.replace(['D', 'E', 'F', 'G'], 2)\n",
      "C:\\Users\\acasi\\AppData\\Local\\Temp\\ipykernel_14992\\4260260563.py:41: SettingWithCopyWarning: \n",
      "A value is trying to be set on a copy of a slice from a DataFrame.\n",
      "Try using .loc[row_indexer,col_indexer] = value instead\n",
      "\n",
      "See the caveats in the documentation: https://pandas.pydata.org/pandas-docs/stable/user_guide/indexing.html#returning-a-view-versus-a-copy\n",
      "  risk_X[column] = risk_X[column].fillna(0)\n"
     ]
    },
    {
     "name": "stdout",
     "output_type": "stream",
     "text": [
      "grado_credito\n",
      "0    4895\n",
      "1    4895\n",
      "2    4895\n",
      "Name: count, dtype: int64\n",
      "(14685, 5)\n",
      "(14685, 3)\n",
      "(9960, 5)\n",
      "(9960,)\n",
      "(14685, 5)\n",
      "(14685, 3)\n",
      "(4058, 5)\n",
      "(4058,)\n"
     ]
    }
   ],
   "source": [
    "import numpy as np\n",
    "import pandas as pd\n",
    "import tensorflow as tf\n",
    "\n",
    "#Load the CSV file into a Pandas DataFrame\n",
    "risk = './data/riesgo_crediticio.csv'\n",
    "abandonment = './data/abandono_de_clientes.csv'\n",
    "risk_d = pd.read_csv(risk, delimiter=',')\n",
    "abandonment_d = pd.read_csv(abandonment, delimiter=',')\n",
    "#print(risk_d.head())\n",
    "#print(abandonment_d.head())\n",
    "\n",
    "# Print the column names to debug\n",
    "#print(\"Column names:\", risk_d.columns)\n",
    "#print(\"Column names:\", abandonment_d.columns)\n",
    "\n",
    "# Extract target column for each dataset\n",
    "risk_Y = risk_d.pop('grado_credito')\n",
    "abandonment_Y = abandonment_d.pop('abandono')\n",
    "\n",
    "print(risk_Y.value_counts())\n",
    "\n",
    "# Extract the features for each dataset\n",
    "# For Risk, extract Historial crediticio, Incumplimiento histórico, Monto de crédito, Proporción de ingreso and Antigüedad en el empleo\n",
    "risk_X = risk_d[['historial_crediticio', 'incumplimiento_historico', 'monto_credito', 'procentaje_de_ingreso', 'antiguedad_empleo']]\n",
    "risk_X['incumplimiento_historico'] = risk_X['incumplimiento_historico'].replace(['Y', 'N'], [1.0, 0.0])\n",
    "\n",
    "# Since the target risk_y has a low count for some classes, we will create 3 classifications they can get\n",
    "# 0 - A, B, 1 - C, 2 - D, E, F, G, representing low, medium and high risk respectively\n",
    "risk_Y = risk_Y.replace(['A', 'B'], 0)\n",
    "risk_Y = risk_Y.replace(['C'], 1)\n",
    "risk_Y = risk_Y.replace(['D', 'E', 'F', 'G'], 2)\n",
    "\n",
    "# Balance the target variable for the Risk dataset\n",
    "from imblearn.under_sampling import ClusterCentroids  \n",
    "\n",
    "# Check for balance in the target variable\n",
    "print(risk_Y.value_counts())\n",
    "\n",
    "for column in risk_X.columns:\n",
    "    risk_X[column] = risk_X[column].fillna(0)\n",
    "\n",
    "clustercentroids = ClusterCentroids()\n",
    "risk_X, risk_Y = clustercentroids.fit_resample(risk_X, risk_Y)\n",
    "\n",
    "# Check for balance in the target variable\n",
    "print(risk_Y.value_counts())\n",
    "\n",
    "\n",
    "# One hot encode the target variables\n",
    "num_classes = 3 # 0, 1 ,2\n",
    "risk_Y = tf.keras.utils.to_categorical(risk_Y, num_classes=num_classes)\n",
    "\n",
    "# For Abandonment, extract Permanencia, Número de productos, Es cliente activo, Saldo, Puntuación crediticia\n",
    "abandonment_X = abandonment_d[['permanencia', 'num_de_productos', 'es_cliente_activo', 'saldo', 'puntuacion_crediticia']]\n",
    "\n",
    "# Check the shape of the data\n",
    "print(risk_X.shape)\n",
    "print(risk_Y.shape)\n",
    "\n",
    "print(abandonment_X.shape)\n",
    "print(abandonment_Y.shape)\n",
    "\n",
    "# Check for balance in the target variable\n",
    "#print(risk_Y.value_counts())\n",
    "#print(abandonment_Y.value_counts())\n",
    "\n",
    "# Count the number of missing values\n",
    "#print(risk_X.isnull().sum())\n",
    "#print(abandonment_X.isnull().sum())\n",
    "\n",
    "# Count the number of missing values\n",
    "# print(risk_X.isnull().sum())\n",
    "# print(abandonment_X.isnull().sum())\n",
    "\n",
    "# Balance the target variable for the abandonment dataset\n",
    "\n",
    "clustercentroids = ClusterCentroids()\n",
    "abandonment_X, abandonment_Y = clustercentroids.fit_resample(abandonment_X, abandonment_Y)\n",
    "\n",
    "# Check the shape of the data\n",
    "print(risk_X.shape)\n",
    "print(risk_Y.shape)\n",
    "\n",
    "print(abandonment_X.shape)\n",
    "print(abandonment_Y.shape)\n",
    "\n",
    "# Check for balance in the target variable\n",
    "# print(risk_Y.value_counts())\n",
    "# print(abandonment_Y.value_counts())"
   ]
  },
  {
   "cell_type": "code",
   "execution_count": 32,
   "metadata": {},
   "outputs": [
    {
     "name": "stdout",
     "output_type": "stream",
     "text": [
      "(11748, 5) (2937, 5) (11748, 3) (2937, 3)\n",
      "(3246, 5) (812, 5) (3246,) (812,)\n"
     ]
    }
   ],
   "source": [
    "#Split the data into training and testing sets\n",
    "from sklearn.model_selection import train_test_split\n",
    "\n",
    "# For Risk\n",
    "risk_X_train, risk_X_test, risk_Y_train, risk_Y_test = train_test_split(risk_X, risk_Y, test_size=0.2, random_state=42)\n",
    "\n",
    "# For Abandonment\n",
    "abandonment_X_train, abandonment_X_test, abandonment_Y_train, abandonment_Y_test = train_test_split(abandonment_X, abandonment_Y, test_size=0.2, random_state=42)\n",
    "\n",
    "# Convert the DataFrame and the target column to TensorFlow tensors\n",
    "\n",
    "# For Risk\n",
    "risk_X_train = tf.constant(risk_X_train, dtype=tf.float32)\n",
    "risk_X_test = tf.constant(risk_X_test, dtype=tf.float32)\n",
    "risk_Y_train = tf.constant(risk_Y_train, dtype=tf.float32)\n",
    "risk_Y_test = tf.constant(risk_Y_test, dtype=tf.float32)\n",
    "\n",
    "# For Abandonment\n",
    "abandonment_X_train = tf.constant(abandonment_X_train, dtype=tf.float32)\n",
    "abandonment_X_test = tf.constant(abandonment_X_test, dtype=tf.float32)\n",
    "abandonment_Y_train = tf.constant(abandonment_Y_train, dtype=tf.float32)\n",
    "abandonment_Y_test = tf.constant(abandonment_Y_test, dtype=tf.float32)\n",
    "\n",
    "# Verify the tensors\n",
    "print(risk_X_train.shape, risk_X_test.shape, risk_Y_train.shape, risk_Y_test.shape) \n",
    "print(abandonment_X_train.shape, abandonment_X_test.shape, abandonment_Y_train.shape, abandonment_Y_test.shape)"
   ]
  },
  {
   "cell_type": "code",
   "execution_count": 33,
   "metadata": {},
   "outputs": [],
   "source": [
    "# Now we create 2 Nerual Network models, one for each dataset, where we will\n",
    "# use binary classification for the Abandonment dataset and multi-class classification for the Risk dataset\n",
    "\n",
    "# For Risk\n",
    "risk_model = tf.keras.Sequential([\n",
    "    tf.keras.layers.Dense(128, activation='relu'),\n",
    "    tf.keras.layers.Dense(64, activation='relu'),\n",
    "    tf.keras.layers.Dense(32, activation='relu'),\n",
    "    tf.keras.layers.Dense(3, activation='softmax')\n",
    "])\n",
    "\n",
    "risk_model.compile(optimizer='adam', loss='sparse_categorical_crossentropy', metrics=['accuracy', tf.keras.metrics.Precision()])\n",
    "\n",
    "# For Abandonment\n",
    "abandonment_model = tf.keras.Sequential([\n",
    "    tf.keras.layers.Dense(128, activation='tanh'),\n",
    "    tf.keras.layers.Dense(64, activation='tanh'),\n",
    "    tf.keras.layers.Dense(32, activation='tanh'),\n",
    "    tf.keras.layers.Dense(8, activation='tanh'),\n",
    "    tf.keras.layers.Dense(1, activation='sigmoid')\n",
    "])\n",
    "\n",
    "abandonment_model.compile(optimizer='adam', loss='binary_crossentropy', metrics=['accuracy', 'Precision'])\n",
    "\n"
   ]
  },
  {
   "cell_type": "code",
   "execution_count": 34,
   "metadata": {},
   "outputs": [
    {
     "name": "stdout",
     "output_type": "stream",
     "text": [
      "Epoch 1/50\n"
     ]
    },
    {
     "ename": "ValueError",
     "evalue": "Argument `output` must have rank (ndim) `target.ndim - 1`. Received: target.shape=(None, 3), output.shape=(None, 3)",
     "output_type": "error",
     "traceback": [
      "\u001b[1;31m---------------------------------------------------------------------------\u001b[0m",
      "\u001b[1;31mValueError\u001b[0m                                Traceback (most recent call last)",
      "Cell \u001b[1;32mIn[34], line 4\u001b[0m\n\u001b[0;32m      1\u001b[0m \u001b[38;5;66;03m# Train the models\u001b[39;00m\n\u001b[0;32m      2\u001b[0m \n\u001b[0;32m      3\u001b[0m \u001b[38;5;66;03m# For Risk\u001b[39;00m\n\u001b[1;32m----> 4\u001b[0m \u001b[43mrisk_model\u001b[49m\u001b[38;5;241;43m.\u001b[39;49m\u001b[43mfit\u001b[49m\u001b[43m(\u001b[49m\u001b[43mrisk_X_train\u001b[49m\u001b[43m,\u001b[49m\u001b[43m \u001b[49m\u001b[43mrisk_Y_train\u001b[49m\u001b[43m,\u001b[49m\u001b[43m \u001b[49m\u001b[43mepochs\u001b[49m\u001b[38;5;241;43m=\u001b[39;49m\u001b[38;5;241;43m50\u001b[39;49m\u001b[43m)\u001b[49m\n\u001b[0;32m      6\u001b[0m \u001b[38;5;66;03m# For Abandonment\u001b[39;00m\n\u001b[0;32m      7\u001b[0m abandonment_model\u001b[38;5;241m.\u001b[39mfit(abandonment_X_train, abandonment_Y_train, epochs\u001b[38;5;241m=\u001b[39m\u001b[38;5;241m125\u001b[39m)\n",
      "File \u001b[1;32m~\\AppData\\Roaming\\Python\\Python312\\site-packages\\keras\\src\\utils\\traceback_utils.py:122\u001b[0m, in \u001b[0;36mfilter_traceback.<locals>.error_handler\u001b[1;34m(*args, **kwargs)\u001b[0m\n\u001b[0;32m    119\u001b[0m     filtered_tb \u001b[38;5;241m=\u001b[39m _process_traceback_frames(e\u001b[38;5;241m.\u001b[39m__traceback__)\n\u001b[0;32m    120\u001b[0m     \u001b[38;5;66;03m# To get the full stack trace, call:\u001b[39;00m\n\u001b[0;32m    121\u001b[0m     \u001b[38;5;66;03m# `keras.config.disable_traceback_filtering()`\u001b[39;00m\n\u001b[1;32m--> 122\u001b[0m     \u001b[38;5;28;01mraise\u001b[39;00m e\u001b[38;5;241m.\u001b[39mwith_traceback(filtered_tb) \u001b[38;5;28;01mfrom\u001b[39;00m \u001b[38;5;28;01mNone\u001b[39;00m\n\u001b[0;32m    123\u001b[0m \u001b[38;5;28;01mfinally\u001b[39;00m:\n\u001b[0;32m    124\u001b[0m     \u001b[38;5;28;01mdel\u001b[39;00m filtered_tb\n",
      "File \u001b[1;32m~\\AppData\\Roaming\\Python\\Python312\\site-packages\\keras\\src\\backend\\tensorflow\\nn.py:652\u001b[0m, in \u001b[0;36msparse_categorical_crossentropy\u001b[1;34m(target, output, from_logits, axis)\u001b[0m\n\u001b[0;32m    646\u001b[0m     \u001b[38;5;28;01mraise\u001b[39;00m \u001b[38;5;167;01mValueError\u001b[39;00m(\n\u001b[0;32m    647\u001b[0m         \u001b[38;5;124m\"\u001b[39m\u001b[38;5;124mArgument `output` must be at least rank 1. \u001b[39m\u001b[38;5;124m\"\u001b[39m\n\u001b[0;32m    648\u001b[0m         \u001b[38;5;124m\"\u001b[39m\u001b[38;5;124mReceived: \u001b[39m\u001b[38;5;124m\"\u001b[39m\n\u001b[0;32m    649\u001b[0m         \u001b[38;5;124mf\u001b[39m\u001b[38;5;124m\"\u001b[39m\u001b[38;5;124moutput.shape=\u001b[39m\u001b[38;5;132;01m{\u001b[39;00moutput\u001b[38;5;241m.\u001b[39mshape\u001b[38;5;132;01m}\u001b[39;00m\u001b[38;5;124m\"\u001b[39m\n\u001b[0;32m    650\u001b[0m     )\n\u001b[0;32m    651\u001b[0m \u001b[38;5;28;01mif\u001b[39;00m \u001b[38;5;28mlen\u001b[39m(target\u001b[38;5;241m.\u001b[39mshape) \u001b[38;5;241m!=\u001b[39m \u001b[38;5;28mlen\u001b[39m(output\u001b[38;5;241m.\u001b[39mshape[:\u001b[38;5;241m-\u001b[39m\u001b[38;5;241m1\u001b[39m]):\n\u001b[1;32m--> 652\u001b[0m     \u001b[38;5;28;01mraise\u001b[39;00m \u001b[38;5;167;01mValueError\u001b[39;00m(\n\u001b[0;32m    653\u001b[0m         \u001b[38;5;124m\"\u001b[39m\u001b[38;5;124mArgument `output` must have rank (ndim) `target.ndim - 1`. \u001b[39m\u001b[38;5;124m\"\u001b[39m\n\u001b[0;32m    654\u001b[0m         \u001b[38;5;124m\"\u001b[39m\u001b[38;5;124mReceived: \u001b[39m\u001b[38;5;124m\"\u001b[39m\n\u001b[0;32m    655\u001b[0m         \u001b[38;5;124mf\u001b[39m\u001b[38;5;124m\"\u001b[39m\u001b[38;5;124mtarget.shape=\u001b[39m\u001b[38;5;132;01m{\u001b[39;00mtarget\u001b[38;5;241m.\u001b[39mshape\u001b[38;5;132;01m}\u001b[39;00m\u001b[38;5;124m, output.shape=\u001b[39m\u001b[38;5;132;01m{\u001b[39;00moutput\u001b[38;5;241m.\u001b[39mshape\u001b[38;5;132;01m}\u001b[39;00m\u001b[38;5;124m\"\u001b[39m\n\u001b[0;32m    656\u001b[0m     )\n\u001b[0;32m    657\u001b[0m \u001b[38;5;28;01mfor\u001b[39;00m e1, e2 \u001b[38;5;129;01min\u001b[39;00m \u001b[38;5;28mzip\u001b[39m(target\u001b[38;5;241m.\u001b[39mshape, output\u001b[38;5;241m.\u001b[39mshape[:\u001b[38;5;241m-\u001b[39m\u001b[38;5;241m1\u001b[39m]):\n\u001b[0;32m    658\u001b[0m     \u001b[38;5;28;01mif\u001b[39;00m e1 \u001b[38;5;129;01mis\u001b[39;00m \u001b[38;5;129;01mnot\u001b[39;00m \u001b[38;5;28;01mNone\u001b[39;00m \u001b[38;5;129;01mand\u001b[39;00m e2 \u001b[38;5;129;01mis\u001b[39;00m \u001b[38;5;129;01mnot\u001b[39;00m \u001b[38;5;28;01mNone\u001b[39;00m \u001b[38;5;129;01mand\u001b[39;00m e1 \u001b[38;5;241m!=\u001b[39m e2:\n",
      "\u001b[1;31mValueError\u001b[0m: Argument `output` must have rank (ndim) `target.ndim - 1`. Received: target.shape=(None, 3), output.shape=(None, 3)"
     ]
    }
   ],
   "source": [
    "# Train the models\n",
    "\n",
    "# For Risk\n",
    "risk_model.fit(risk_X_train, risk_Y_train, epochs=50)\n",
    "\n",
    "# For Abandonment\n",
    "abandonment_model.fit(abandonment_X_train, abandonment_Y_train, epochs=125)"
   ]
  },
  {
   "cell_type": "code",
   "execution_count": null,
   "metadata": {},
   "outputs": [],
   "source": [
    "from sklearn.metrics import accuracy_score, precision_score, recall_score\n",
    "from sklearn.metrics import confusion_matrix\n",
    "# Test the models\n",
    "\n",
    "# For Risk\n",
    "\n",
    "risk_Y_pred = risk_model.predict(risk_X_test)\n",
    "# print(\"Risk model prediction:\", risk_Y_pred)\n",
    "\n",
    "print(risk_Y_pred.shape)\n",
    "print(risk_Y_test.shape)\n",
    "\n",
    "# Confusion matrix for the Risk model\n",
    "cm1 = confusion_matrix(risk_Y_test, risk_Y_pred)\n",
    "print(\"Confusion matrix:\")\n",
    "print(cm1)\n",
    "\n",
    "# For Abandonment\n",
    "\n",
    "abandonment_Y_pred = abandonment_model.predict(abandonment_X_test)\n",
    "# print(\"Abandonment model predictions:\", abandonment_Y_pred)\n",
    "# print(\"Abandonment Actual:\", abandonment_Y_test)\n",
    "# Round the predictions to 0 or 1\n",
    "abandonment_Y_pred = np.round(abandonment_Y_pred)\n",
    "\n",
    "# Confusion matrix for the Abandonment model\n",
    "cm = confusion_matrix(abandonment_Y_test, abandonment_Y_pred)\n",
    "print(\"Confusion matrix:\")\n",
    "print(cm)\n",
    "\n",
    "# Convert tensors to numpy arrays for metric calculation\n",
    "y_test_np = abandonment_Y_test.numpy()\n",
    "\n",
    "# Calculate accuracy, precision, and recall\n",
    "accuracy = accuracy_score(y_test_np, abandonment_Y_pred)\n",
    "precision = precision_score(y_test_np, abandonment_Y_pred)\n",
    "recall = recall_score(y_test_np, abandonment_Y_pred)\n",
    "\n",
    "print(f\"Accuracy: {accuracy}\")\n",
    "print(f\"Precision: {precision}\")\n",
    "print(f\"Recall: {recall}\")\n"
   ]
  },
  {
   "cell_type": "code",
   "execution_count": null,
   "metadata": {},
   "outputs": [],
   "source": [
    "# Now we save the models\n",
    "\n",
    "risk_model.save('./models/risk_model.keras', overwrite=True)\n",
    "abandonment_model.save('./models/abandonment_model.keras', overwrite=True) "
   ]
  }
 ],
 "metadata": {
  "kernelspec": {
   "display_name": "Python 3",
   "language": "python",
   "name": "python3"
  },
  "language_info": {
   "codemirror_mode": {
    "name": "ipython",
    "version": 3
   },
   "file_extension": ".py",
   "mimetype": "text/x-python",
   "name": "python",
   "nbconvert_exporter": "python",
   "pygments_lexer": "ipython3",
   "version": "3.12.0"
  }
 },
 "nbformat": 4,
 "nbformat_minor": 2
}
